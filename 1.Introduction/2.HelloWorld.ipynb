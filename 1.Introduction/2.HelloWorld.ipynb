{
 "cells": [
  {
   "cell_type": "markdown",
   "metadata": {
    "application/vnd.databricks.v1+cell": {
     "cellMetadata": {},
     "inputWidgets": {},
     "nuid": "c63dc189-e6a5-4b22-b796-e96b7ba68c89",
     "showTitle": false,
     "tableResultSettingsMap": {},
     "title": ""
    }
   },
   "source": [
    "## SparkSession\n",
    "In order to work with `Spark`, we have to first set up a `SparkSession`.\n",
    "\n",
    "From this point forward, we can interact with Apache Spark using this spark object."
   ]
  },
  {
   "cell_type": "code",
   "execution_count": 0,
   "metadata": {
    "application/vnd.databricks.v1+cell": {
     "cellMetadata": {
      "byteLimit": 2048000,
      "rowLimit": 10000
     },
     "inputWidgets": {},
     "nuid": "c3bb0391-0499-4e73-b535-6305edeaf33f",
     "showTitle": false,
     "tableResultSettingsMap": {},
     "title": ""
    }
   },
   "outputs": [],
   "source": [
    "from pyspark.sql import SparkSession\n",
    "\n",
    "# The builder method is used to set up an app which we name 'HelloWorldApp'\n",
    "spark =  SparkSession.builder.appName('HelloWorldApp').getOrCreate()"
   ]
  },
  {
   "cell_type": "markdown",
   "metadata": {
    "application/vnd.databricks.v1+cell": {
     "cellMetadata": {},
     "inputWidgets": {},
     "nuid": "1f74549a-d083-4386-a69f-8c4e64acebed",
     "showTitle": false,
     "tableResultSettingsMap": {},
     "title": ""
    }
   },
   "source": [
    "Let's break down this code snippet a bit further. In order to work with Spark, we have to set up a `Spark Application` which we wish to name `HelloWorldApp`.\n",
    "\n",
    "To do this:\n",
    "\n",
    "1. We initiated a **SparkSession** using the **.builder** method.\n",
    "2. We used **.appName** to tell Spark to name our Application **HelloWorldApp**.\n",
    "3. We used **.getOrCreate()** to tell Spark to create the Application if it does not exist yet, or reconnect to the existing app with the given name should it exist already.\n",
    "\n",
    "Finally, the reference to this Spark application is stored in an object we named spark\n",
    "Note that without a SparkSession, it is not possible to access and use Spark. More information about SparkSession can be found [here]('https://spark.apache.org/docs/latest/api/python/reference/pyspark.sql/spark_session.html')"
   ]
  },
  {
   "cell_type": "markdown",
   "metadata": {
    "application/vnd.databricks.v1+cell": {
     "cellMetadata": {},
     "inputWidgets": {},
     "nuid": "ba3ec0e3-ea37-47b3-9e71-405d278991d1",
     "showTitle": false,
     "tableResultSettingsMap": {},
     "title": ""
    }
   },
   "source": [
    "## Hello World\n",
    "\n",
    "Now that we have initiated the `SparkSession` and assigned it to a variable `spark` , we can use this variable to easily access all of sparks functionality."
   ]
  },
  {
   "cell_type": "code",
   "execution_count": 0,
   "metadata": {
    "application/vnd.databricks.v1+cell": {
     "cellMetadata": {
      "byteLimit": 2048000,
      "rowLimit": 10000
     },
     "inputWidgets": {},
     "nuid": "23540479-9899-4556-be82-6222bf86c027",
     "showTitle": false,
     "tableResultSettingsMap": {},
     "title": ""
    }
   },
   "outputs": [],
   "source": [
    "# Using Spark SQL, we create a dataframe which holds our `hello world` data\n",
    "df = spark.sql('SELECT \"hello world\" as c1')\n",
    "\n",
    "# We can then use the `show()` method to see what the DataFrame we just created looks like\n",
    "df.show()"
   ]
  },
  {
   "cell_type": "markdown",
   "metadata": {
    "application/vnd.databricks.v1+cell": {
     "cellMetadata": {},
     "inputWidgets": {},
     "nuid": "47c59e29-0730-4c48-b770-35be3b631e05",
     "showTitle": false,
     "tableResultSettingsMap": {},
     "title": ""
    }
   },
   "source": [
    "## Stopping our Spark application\n",
    "\n",
    "It is always good practice to clean up behind ourselves. As we do not need this Application anymore after running what we want from it, we can kill it (stop it) using **.stop()**. This tells Spark that it can kill off this Application and free up the resources."
   ]
  },
  {
   "cell_type": "code",
   "execution_count": 0,
   "metadata": {
    "application/vnd.databricks.v1+cell": {
     "cellMetadata": {
      "byteLimit": 2048000,
      "rowLimit": 10000
     },
     "inputWidgets": {},
     "nuid": "95fa0e17-1633-4e32-a650-4bc21b73fd69",
     "showTitle": false,
     "tableResultSettingsMap": {},
     "title": ""
    }
   },
   "outputs": [],
   "source": [
    "spark.stop()"
   ]
  }
 ],
 "metadata": {
  "application/vnd.databricks.v1+notebook": {
   "computePreferences": null,
   "dashboards": [],
   "environmentMetadata": {
    "base_environment": "",
    "environment_version": "2"
   },
   "inputWidgetPreferences": null,
   "language": "python",
   "notebookMetadata": {
    "pythonIndentUnit": 4
   },
   "notebookName": "2.HelloWorld",
   "widgets": {}
  },
  "language_info": {
   "name": "python"
  }
 },
 "nbformat": 4,
 "nbformat_minor": 0
}
